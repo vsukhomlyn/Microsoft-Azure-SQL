{
  "nbformat": 4,
  "nbformat_minor": 0,
  "metadata": {
    "colab": {
      "name": "AzureBlob.ipynb",
      "provenance": [],
      "collapsed_sections": []
    },
    "kernelspec": {
      "name": "python3",
      "display_name": "Python 3"
    }
  },
  "cells": [
    {
      "cell_type": "code",
      "metadata": {
        "id": "TLSMcpgRfs31"
      },
      "source": [
        "!pip install azure-storage-blob\n"
      ],
      "execution_count": null,
      "outputs": []
    },
    {
      "cell_type": "code",
      "metadata": {
        "id": "KDs0Dye6giVW"
      },
      "source": [
        "from azure.storage.blob import BlobServiceClient, __version__"
      ],
      "execution_count": null,
      "outputs": []
    },
    {
      "cell_type": "code",
      "metadata": {
        "id": "owkCtdelnTGV"
      },
      "source": [
        "\n",
        "print(\"Azure Blob storage v\" + __version__)\n",
        "\n",
        "connect_str = \"BlobEndpoint=hide\"\n",
        "\n",
        "# Create the BlobServiceClient object which will be used to create a container client\n",
        "blob_service_client = BlobServiceClient.from_connection_string(connect_str)\n"
      ],
      "execution_count": null,
      "outputs": []
    },
    {
      "cell_type": "code",
      "metadata": {
        "id": "y34lzKy27cq9"
      },
      "source": [
        "# Create a unique name for the container\n",
        "container_name = \"yellow-tripdata\"\n",
        "\n",
        "# Create the container\n",
        "container_client = blob_service_client.create_container(container_name)"
      ],
      "execution_count": null,
      "outputs": []
    },
    {
      "cell_type": "code",
      "metadata": {
        "id": "Xfs0_kAYuZ7M",
        "outputId": "ed2c392f-ec55-42e1-afa2-8e9083d08421",
        "colab": {
          "base_uri": "https://localhost:8080/"
        }
      },
      "source": [
        "from google.colab import drive\n",
        "drive.mount('/content/drive')"
      ],
      "execution_count": null,
      "outputs": [
        {
          "output_type": "stream",
          "text": [
            "Mounted at /content/drive\n"
          ],
          "name": "stdout"
        }
      ]
    },
    {
      "cell_type": "code",
      "metadata": {
        "id": "7GgdM-cvuo1W"
      },
      "source": [
        "upload_file_path=\"/content/drive/My Drive/data/IndianFoodDatasetCSV.csv\"\n",
        "local_file_name = \"yellow_tripdata_2020-01.csv\""
      ],
      "execution_count": null,
      "outputs": []
    },
    {
      "cell_type": "code",
      "metadata": {
        "id": "uK4sX9bxtlW9"
      },
      "source": [
        "# Create a blob client using the local file name as the name for the blob\n",
        "blob_client = blob_service_client.get_blob_client(container=container_name, blob=local_file_name)\n",
        "\n",
        "print(\"\\nUploading to Azure Storage as blob:\\n\\t\" + local_file_name)\n",
        "\n",
        "# Upload the created file\n",
        "with open(upload_file_path, \"rb\") as data:\n",
        "    blob_client.upload_blob(data)"
      ],
      "execution_count": null,
      "outputs": []
    },
    {
      "cell_type": "code",
      "metadata": {
        "id": "KGNApCN38VVy"
      },
      "source": [
        "print(\"\\nListing blobs...\")\n",
        "\n",
        "# List the blobs in the container\n",
        "blob_list = container_client.list_blobs()\n",
        "for blob in blob_list:\n",
        "    print(\"\\t\" + blob.name)"
      ],
      "execution_count": null,
      "outputs": []
    }
  ]
}